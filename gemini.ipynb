{
 "cells": [
  {
   "cell_type": "code",
   "execution_count": null,
   "metadata": {
    "id": "HThuWkbCDUn5"
   },
   "outputs": [],
   "source": [
    "!pip install -U -q google.generativeai\n",
    "# !pip install -q chromadb\n",
    "# !pip install PyPDF2"
   ]
  },
  {
   "cell_type": "code",
   "execution_count": null,
   "metadata": {
    "id": "S3yN6ifKD0gA"
   },
   "outputs": [],
   "source": [
    "import textwrap\n",
    "# import chromadb\n",
    "import numpy as np\n",
    "import pandas as pd\n",
    "\n",
    "import google.generativeai as genai\n",
    "import google.ai.generativelanguage as glm\n",
    "\n",
    "# Used to securely store your API key\n",
    "from google.colab import userdata\n",
    "\n",
    "from IPython.display import Markdown\n",
    "# from chromadb import Documents, EmbeddingFunction, Embeddings"
   ]
  },
  {
   "cell_type": "code",
   "execution_count": null,
   "metadata": {
    "id": "P3YAyKe1ECym"
   },
   "outputs": [],
   "source": [
    "# Or use `os.getenv('API_KEY')` to fetch an environment variable.\n",
    "API_KEY=userdata.get('GOOGLE_API_KEY')\n",
    "\n",
    "genai.configure(api_key=API_KEY)"
   ]
  },
  {
   "cell_type": "code",
   "execution_count": null,
   "metadata": {
    "colab": {
     "base_uri": "https://localhost:8080/",
     "height": 35
    },
    "id": "pV7hOWN0EFVU",
    "outputId": "95ac1bb8-f44d-462e-8a7b-6562121820db"
   },
   "outputs": [],
   "source": [
    "for m in genai.list_models():\n",
    "  if 'embedContent' in m.supported_generation_methods:\n",
    "    print(m.name)"
   ]
  },
  {
   "cell_type": "code",
   "execution_count": null,
   "metadata": {
    "id": "l6l0N1NeGGiy"
   },
   "outputs": [],
   "source": [
    "# !pip install langchain\n",
    "import langchain\n",
    "from langchain.prompts import PromptTemplate\n",
    "\n",
    "prompt_template_name = PromptTemplate(\n",
    "    input_variables =['statemen'],\n",
    "    template = \"Correct the paragraph.Your role is to analyze statements sentence by sentence. You should not summarize and do not skip any line and instead focus on correcting each sentence individually. Address any minor grammatical issues and fact-check sentences specifically related to the medical domain.Rely on your own knowledge for correcting medical facts.For sentence having no medical facts, check for grammar.If there are corrections return the corrected sentence else return the orignal sentence. Original Paragraph: - '{statemen}' Corrected Paragraph: \"\n",
    ")\n",
    "\n",
    "# prompt = prompt_template_name.format(statemen=\"hi all I am doctor pulmonary just practicing at Sachar nagar inspired Specialty Clinic Bangalore can flu cause pneumonia definitely most of the time 90% of the time flu influenza can cause some viral infections and it is self-limiting without any treatment also it can improve on its own with symptomatic treatment few patients need antivirals to patients can get secondary bacterial infections especially staphylococcal infections or they can get pneumonias with the streptococcus and flew by makes because of the airway Bridge since it affects the Airways and they are more susceptible to stop OK Google sometimes it can be life threatening and it can cause severe name of the tracks complications media all those things can happen infections and viral infections for sale can cause pneumonia and they may present like bilateral pneumonia which can be life threatening affecting oxygenation and they just require one or two liters of oxygen and some people because of the strange regions they may progressed faster and 7th or 8th day they mean more complications can happen which is called as which requires invisible mechanical ventilation and it can go up to 110% of the complications which can happen with the fluid they make secondary infection sometimes they go for multi organizations and death is very less than 4% of the chances is there that's why we tell them to take vaccinations at the disease will not be seen and they will not die much and the people know about the flu very well and every year flu vaccination is a preventative modality and pneumonia are definitely common with flu and incidents of come down because we have a specific treatment for influenza and we have a vaccinations which can cover for one year that's about flu\")\n",
    "# print(prompt)"
   ]
  },
  {
   "cell_type": "code",
   "execution_count": null,
   "metadata": {
    "id": "i1SNhPrH5XzF"
   },
   "outputs": [],
   "source": [
    "def correct_statement(statement):\n",
    "    prompt = prompt_template_name.format(statemen=statement)\n",
    "    model = genai.GenerativeModel('gemini-pro')\n",
    "    answer = model.generate_content(prompt)\n",
    "    return answer.text"
   ]
  },
  {
   "cell_type": "code",
   "execution_count": null,
   "metadata": {
    "id": "9AAvtjkC17UK"
   },
   "outputs": [],
   "source": [
    "\n",
    "# import csv\n",
    "# from itertools import islice\n",
    "\n",
    "# def process_file(input_file, output_file):\n",
    "#     with open(input_file, 'r', encoding='ISO-8859-1') as file:\n",
    "#         reader = csv.reader(file)\n",
    "#         first_column_data = [row[0] for row in islice(reader, 50)]\n",
    "#     print(first_column_data)\n",
    "#     for statement in first_column_data:\n",
    "#         corrected_paragraph = correct_statement(statement)\n",
    "#         print(\"...............................\")\n",
    "#         print(corrected_paragraph)\n",
    "#         print(\"...............................\")\n",
    "#         corrected_paragraphs.append(corrected_paragraph)\n"
   ]
  },
  {
   "cell_type": "code",
   "execution_count": null,
   "metadata": {
    "colab": {
     "base_uri": "https://localhost:8080/",
     "height": 55
    },
    "id": "UlHVh8l6B1Yc",
    "outputId": "59324cfe-c203-4553-e38a-3d2c4ada7990"
   },
   "outputs": [],
   "source": [
    "\n",
    "import csv\n",
    "input_file =  '/content/googletestdata.csv'\n",
    "with open(input_file, 'r', encoding='ISO-8859-1') as file:\n",
    "        reader = csv.reader(file)\n",
    "        for i, row in enumerate(reader):\n",
    "            if i == 46:\n",
    "                statement = row[0]\n",
    "                break\n",
    "# corrected_data=[]\n",
    "# with open(input_file, 'r', encoding='ISO-8859-1') as file:\n",
    "#     reader = csv.reader(file)\n",
    "#     for i, row in enumerate(reader):\n",
    "#         if 4 <= i <= :\n",
    "#             statement = row[0]\n",
    "#             corrected_paragraph = correct_statement(statement)\n",
    "#             print(\"...............................\")\n",
    "#             print(corrected_paragraph)\n",
    "#             print(\"...............................\")\n",
    "#             corrected_data.append([statement, corrected_paragraph])\n",
    "# print(statement)\n",
    "corrected_paragraph = correct_statement(statement)\n",
    "print(corrected_paragraph)\n"
   ]
  },
  {
   "cell_type": "code",
   "execution_count": null,
   "metadata": {
    "colab": {
     "base_uri": "https://localhost:8080/",
     "height": 406
    },
    "id": "juSzPCo72msL",
    "outputId": "5d37a538-a146-4b13-8921-9ceff9485eec"
   },
   "outputs": [],
   "source": [
    "statements=[]\n",
    "corrected_paragraphs = []\n",
    "input_test_file = '/content/googletestdata.csv'\n",
    "output_csv_file = 'gemini_google_results.csv'\n",
    "process_file(input_test_file, output_csv_file)"
   ]
  },
  {
   "cell_type": "code",
   "execution_count": null,
   "metadata": {
    "colab": {
     "base_uri": "https://localhost:8080/"
    },
    "id": "_HrdR5Cj4Xkx",
    "outputId": "268289a7-ddf1-4114-fb8f-92f22dc32794"
   },
   "outputs": [],
   "source": []
  },
  {
   "cell_type": "code",
   "execution_count": null,
   "metadata": {
    "colab": {
     "base_uri": "https://localhost:8080/",
     "height": 640
    },
    "id": "NeiXgde6xEBS",
    "outputId": "d0447aa3-c261-44fe-8542-b348955bbf6a"
   },
   "outputs": [],
   "source": [
    "import csv\n",
    "from itertools import islice\n",
    "def process_file(input_file, output_file):\n",
    "    with open(input_file, 'r') as file:\n",
    "        reader = csv.DictReader(file)\n",
    "        # statements = [row['Original Paragraph'] for row in reader]\n",
    "        statements = [row['Original Paragraph'] for row in islice(reader, 50)]\n",
    "\n",
    "    corrected_paragraphs = []\n",
    "\n",
    "    for statement in statements:\n",
    "        corrected_paragraph = correct_statement(statement)\n",
    "        corrected_paragraphs.append(corrected_paragraph)\n",
    "\n",
    "    # Write results to CSV\n",
    "    with open(output_file, 'w', newline='') as csvfile:\n",
    "        fieldnames = ['Original Statement', 'Corrected Paragraph']\n",
    "        writer = csv.DictWriter(csvfile, fieldnames=fieldnames)\n",
    "\n",
    "        writer.writeheader()\n",
    "\n",
    "        for original, corrected in zip(statements, corrected_paragraphs):\n",
    "            writer.writerow({'Original Statement': original.strip(), 'Corrected Paragraph': corrected.strip()})\n",
    "\n",
    "# Example usage\n",
    "input_test_file = 'example (10).csv'\n",
    "output_csv_file = 'gemini_google_results.csv'\n",
    "\n",
    "process_file(input_test_file, output_csv_file)"
   ]
  },
  {
   "cell_type": "code",
   "execution_count": null,
   "metadata": {
    "id": "-JK89o5n2YiI"
   },
   "outputs": [],
   "source": [
    "corrected_paragraphs"
   ]
  }
 ],
 "metadata": {
  "colab": {
   "provenance": []
  },
  "kernelspec": {
   "display_name": "Python 3 (ipykernel)",
   "language": "python",
   "name": "python3"
  },
  "language_info": {
   "codemirror_mode": {
    "name": "ipython",
    "version": 3
   },
   "file_extension": ".py",
   "mimetype": "text/x-python",
   "name": "python",
   "nbconvert_exporter": "python",
   "pygments_lexer": "ipython3",
   "version": "3.11.0"
  }
 },
 "nbformat": 4,
 "nbformat_minor": 1
}
