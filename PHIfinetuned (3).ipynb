{
 "cells": [
  {
   "cell_type": "code",
   "execution_count": null,
   "metadata": {
    "colab": {
     "base_uri": "https://localhost:8080/"
    },
    "id": "3NoVX-AP5qi2",
    "outputId": "fd10c4fd-49f7-4bc8-ba26-f44e77002e5b"
   },
   "outputs": [],
   "source": [
    "!pip install -q -U bitsandbytes\n",
    "# !pip install -q -U git+https://github.com/huggingface/transformers.git\n",
    "!pip install transformers==4.31\n",
    "!pip install -q -U git+https://github.com/huggingface/peft.git\n",
    "!pip install -q -U git+https://github.com/huggingface/accelerate.git\n",
    "!pip install -q datasets\n",
    "!pip install evaluate\n",
    "!pip install -qqq trl==0.7.1"
   ]
  },
  {
   "cell_type": "code",
   "execution_count": null,
   "metadata": {
    "colab": {
     "base_uri": "https://localhost:8080/"
    },
    "id": "n2yqWS6JCOB8",
    "outputId": "0aac6655-9060-42ee-abaa-4f03fc0e8918"
   },
   "outputs": [],
   "source": [
    "!pip install einops"
   ]
  },
  {
   "cell_type": "code",
   "execution_count": null,
   "metadata": {
    "id": "WZfTG2k_5tA8"
   },
   "outputs": [],
   "source": [
    "import os\n",
    "from dataclasses import dataclass, field\n",
    "from typing import Optional\n",
    "import pandas as pd\n",
    "import json\n",
    "import warnings\n",
    "\n",
    "import torch\n",
    "from datasets import load_dataset\n",
    "from datasets import load_from_disk\n",
    "from peft import LoraConfig\n",
    "from transformers import (\n",
    "    AutoModelForCausalLM,\n",
    "    AutoTokenizer,\n",
    "    BitsAndBytesConfig,\n",
    "    HfArgumentParser,\n",
    "    AutoTokenizer,\n",
    "    TrainingArguments,\n",
    ")\n",
    "from tqdm.notebook import tqdm\n",
    "\n",
    "from trl import SFTTrainer\n",
    "from huggingface_hub import interpreter_login\n",
    "os.environ[\"WANDB_DISABLED\"] = \"true\"\n",
    "warnings.filterwarnings(\"ignore\")"
   ]
  },
  {
   "cell_type": "code",
   "execution_count": null,
   "metadata": {
    "colab": {
     "base_uri": "https://localhost:8080/",
     "height": 423
    },
    "id": "9J_cgY945wsN",
    "outputId": "c72d0489-e922-447d-a903-da55b12139a5"
   },
   "outputs": [],
   "source": [
    "df = pd.read_excel(\"/content/finetuningwhisper.xlsx\")\n",
    "df = df.iloc[:,:2]\n",
    "df.columns = [\"Original Paragraph\",'Corrected Paragraph']\n",
    "df"
   ]
  },
  {
   "cell_type": "code",
   "execution_count": null,
   "metadata": {
    "id": "gAMzM4TCA0C1"
   },
   "outputs": [],
   "source": [
    "df = df[~df['Corrected Paragraph'].isnull()]"
   ]
  },
  {
   "cell_type": "code",
   "execution_count": null,
   "metadata": {
    "colab": {
     "base_uri": "https://localhost:8080/",
     "height": 1000
    },
    "id": "1Ovlw96UBOa9",
    "outputId": "24f6b750-1f49-47d2-efe8-350a91e2fca0"
   },
   "outputs": [],
   "source": [
    "df"
   ]
  },
  {
   "cell_type": "code",
   "execution_count": null,
   "metadata": {
    "colab": {
     "base_uri": "https://localhost:8080/"
    },
    "id": "kY0d2E0f6Uat",
    "outputId": "19e05c19-87b7-41bd-b454-1a529134f8d8"
   },
   "outputs": [],
   "source": [
    "!pip install accelerate\n",
    "!pip install bitsandbytes"
   ]
  },
  {
   "cell_type": "code",
   "execution_count": null,
   "metadata": {
    "id": "AIXFulUY8cVa"
   },
   "outputs": [],
   "source": [
    "result = list(df.to_json(orient=\"records\"))\n",
    "\n",
    "result[0] = '{\"json\":['\n",
    "result[-1] = ']'\n",
    "result.append('}')\n",
    "\n",
    "\n",
    "result = ''.join(result)\n",
    "result = result.strip('\"\\'')\n",
    "\n",
    "result = json.loads(result)\n",
    "\n",
    "with open('data.json', 'w') as json_file:\n",
    "    json.dump(result, json_file)"
   ]
  },
  {
   "cell_type": "code",
   "execution_count": null,
   "metadata": {
    "colab": {
     "base_uri": "https://localhost:8080/"
    },
    "id": "LrfIL0xI80Wk",
    "outputId": "ce86ca68-8437-4cba-a6d0-3d8018e48d60"
   },
   "outputs": [],
   "source": [
    "result"
   ]
  },
  {
   "cell_type": "code",
   "execution_count": null,
   "metadata": {
    "colab": {
     "base_uri": "https://localhost:8080/",
     "height": 380
    },
    "id": "FRtHm_fakolm",
    "outputId": "163b5240-1f2d-488a-ef57-a04bd1aa4e9b"
   },
   "outputs": [],
   "source": [
    "import json\n",
    "\n",
    "# Assuming 'result' is your original JSON data\n",
    "result = json.loads(result)  # Load it as a Python object if it's a string\n",
    "\n",
    "new_format = []\n",
    "\n",
    "for entry in result['json']:\n",
    "    new_entry = {\n",
    "        \"prompt\": entry['Original Paragraph'],\n",
    "        \"completion\": entry['Corrected Paragraph']\n",
    "    }\n",
    "    new_format.append(new_entry)\n",
    "\n",
    "new_json = json.dumps(new_format, indent=4)\n",
    "print(new_json)\n"
   ]
  },
  {
   "cell_type": "code",
   "execution_count": null,
   "metadata": {
    "colab": {
     "base_uri": "https://localhost:8080/",
     "height": 81,
     "referenced_widgets": [
      "f8d28eac335c4919a64325efd5c4fb19",
      "47eb82818c334e70b30b2784d2aeaee7",
      "3b922c5ed78f4e7197c387a8b6b4d2f4",
      "6b3eb64529a0474ea2a23ef1800c9f53",
      "8043e3b379cd4ece989db22fdbb45b97",
      "7f007e59aa204fa3818c9f5b98e5aa8e",
      "5cd9fdb62a054cf29742f2846aef06c6",
      "758ce93d22144b7cbb48899fb92d37da",
      "2d15f12a216f4eb29ce0e513131a6737",
      "044302c3853b40c48a40c8b334cde514",
      "2783248ddc7f4c28b8822b3dc01cec3d",
      "9786894755b74d81a284fc6eccfc7f24",
      "a7caffb570ab45c0a981ff6e33b3d7cd",
      "d3d45e2a34864cc5891964793a3e29e6",
      "5598b7ccb37648d987cdcedc342b9ee8",
      "d0b183daf4fe4ca39f8e0a033ef6612b",
      "2cc813b02cfd4f18a4de3729a51f3917",
      "b9267d96f8b342aab6e5ccdd76e6879c",
      "20d5b35519ce464ebf2ae010206493f4",
      "c0da307e7a6b4bffbc81aaea3ba4c0e1",
      "ad1156533c5e42568fe9337ec0434223",
      "5ab13fd5640e4b35befd8ccca42ba4da"
     ]
    },
    "id": "k_MILEz38hZx",
    "outputId": "6fa76bde-9323-43d8-a24c-6dd01af0cd9e"
   },
   "outputs": [],
   "source": [
    "dataset = load_dataset(\"json\", data_files=\"data.json\", field='json', split=\"train\")\n",
    "def format_instruction(Original_Paragraph: str, Corrected_Paragraph: str):\n",
    "\treturn f\"\"\"### Instruction:\n",
    "Correct the paragraph:\n",
    "\n",
    "### Original Paragraph:\n",
    "{Original_Paragraph.strip()}\n",
    "\n",
    "### Corrected Paragraph:\n",
    "{Corrected_Paragraph}\n",
    "\"\"\".strip()\n",
    "def process_dataset(data: dataset):\n",
    "    return (\n",
    "        data.shuffle(seed=42)\n",
    "        .map(generate_instruction_dataset)\n",
    "    )\n",
    "\n",
    "\n",
    "def generate_instruction_dataset(data_point):\n",
    "\n",
    "    return {\n",
    "        \"Original Paragraph\": data_point[\"Original Paragraph\"],\n",
    "        \"Corrected Paragraph\": data_point[\"Corrected Paragraph\"],\n",
    "        \"text\": format_instruction(data_point[\"Original Paragraph\"],data_point[\"Corrected Paragraph\"])\n",
    "    }\n",
    "dataset = process_dataset(dataset)\n"
   ]
  },
  {
   "cell_type": "code",
   "execution_count": null,
   "metadata": {
    "colab": {
     "base_uri": "https://localhost:8080/"
    },
    "id": "mg7VhNEUI2Sc",
    "outputId": "5117fb19-bb05-4de2-a7db-bead40e58240"
   },
   "outputs": [],
   "source": [
    "dataset"
   ]
  },
  {
   "cell_type": "code",
   "execution_count": null,
   "metadata": {
    "colab": {
     "base_uri": "https://localhost:8080/",
     "height": 181
    },
    "id": "QKorX5RO6G-s",
    "outputId": "e5b88af7-1387-46fe-ae1f-50ce5b3e113a"
   },
   "outputs": [],
   "source": [
    "from peft import prepare_model_for_int8_training\n",
    "import torch\n",
    "from transformers import AutoTokenizer, AutoModelForCausalLM, BitsAndBytesConfig\n",
    "bnb_config = BitsAndBytesConfig(\n",
    "    load_in_8bit=True,\n",
    "    bnb_4bit_quant_type='nf4',\n",
    "    bnb_4bit_compute_dtype='float16',\n",
    "    bnb_4bit_use_double_quant=False,\n",
    ")\n",
    "\n",
    "model_id =  \"microsoft/phi-2\"\n",
    "#Download model\n",
    "model = AutoModelForCausalLM.from_pretrained( model_id, quantization_config=bnb_config, trust_remote_code=True, flash_attn=True, flash_rotary=True, fused_dense=True, low_cpu_mem_usage=True, device_map={\"\": 0}, revision=\"refs/pr/23\" )\n",
    "\n",
    "model.config.pretraining_tp = 1\n",
    "peft_config = LoraConfig(\n",
    "r=32,\n",
    "lora_alpha=16,\n",
    "target_modules=[\n",
    "'Wqkv',\n",
    "'out_proj'\n",
    "],\n",
    "bias=\"none\",\n",
    "lora_dropout=0.05,\n",
    "task_type=\"CAUSAL_LM\",\n",
    "\n",
    ")\n",
    "\n",
    "tokenizer = AutoTokenizer.from_pretrained(\"microsoft/phi-2\", trust_remote_code=True)\n",
    "tokenizer.pad_token = tokenizer.eos_token\n",
    "\n",
    "model = prepare_model_for_int8_training(model, use_gradient_checkpointing=True)\n",
    "\n",
    "training_arguments = TrainingArguments(\n",
    "output_dir= \"./results\",\n",
    "num_train_epochs= 5,\n",
    "per_device_train_batch_size= 1,\n",
    "gradient_accumulation_steps= 1,\n",
    "optim=\"paged_adamw_32bit\",\n",
    "save_strategy=\"epoch\",\n",
    "logging_steps=100,\n",
    "logging_strategy=\"steps\",\n",
    "learning_rate= 2e-4,\n",
    "fp16= False,\n",
    "bf16= False,\n",
    "group_by_length= True,\n",
    "disable_tqdm=False,\n",
    "report_to=None\n",
    ")\n",
    "model.config.use_cache = False\n",
    "\n",
    "\n",
    "trainer = SFTTrainer(\n",
    "    model=model,\n",
    "    train_dataset=dataset,\n",
    "    peft_config=peft_config,\n",
    "    dataset_text_field=\"text\",\n",
    "    max_seq_length=600,\n",
    "    tokenizer=tokenizer,\n",
    "    args=training_arguments,\n",
    "    packing=False,\n",
    ")\n",
    "trainer.train()"
   ]
  },
  {
   "cell_type": "code",
   "execution_count": null,
   "metadata": {
    "colab": {
     "base_uri": "https://localhost:8080/"
    },
    "id": "NuGscBGuI0i-",
    "outputId": "eec42b5d-ecee-4d1f-cd52-01ffa536db46"
   },
   "outputs": [],
   "source": [
    "!huggingface-cli login"
   ]
  },
  {
   "cell_type": "code",
   "execution_count": null,
   "metadata": {
    "colab": {
     "base_uri": "https://localhost:8080/",
     "height": 53
    },
    "id": "bNiXwks517GU",
    "outputId": "8e00589a-0dbc-4a97-83bf-d131d0477900"
   },
   "outputs": [],
   "source": [
    "model.push_to_hub(\"medical_corrector_phi2\",trust_remote_code=True)"
   ]
  },
  {
   "cell_type": "code",
   "execution_count": null,
   "metadata": {
    "colab": {
     "base_uri": "https://localhost:8080/",
     "height": 103,
     "referenced_widgets": [
      "198b50e6963145009bd39e85027ee8bb",
      "882d5628e5cd4566948d88e7b7272f9d",
      "03f9d7c5e7c2407bb5d301f269bbcff3",
      "af4474974d5d408797488115d89c7048",
      "b446c3af0f7942398763ea08f3bf3ecf",
      "4a3e97ccab0e4713b9a7b26e6e6a394b",
      "873dfed5e5bc4bc197d8e1ed35c23fc2",
      "b69d2de2b85e47b09d44a73fcca689f9",
      "83397f12db5c446489f6eae82ef61fec",
      "75e42d456e274cc88878fda1457d1b9f",
      "355e5181ad514beca8ee6ff235ded692"
     ]
    },
    "id": "wSX9--BZ33t5",
    "outputId": "cd58146a-4a5c-448c-a87c-16ba1e3a6ca8"
   },
   "outputs": [],
   "source": [
    "trainer.model.push_to_hub(\"medical_corrector_phi2\",trust_remote_code=True)"
   ]
  },
  {
   "cell_type": "code",
   "execution_count": null,
   "metadata": {
    "colab": {
     "background_save": true
    },
    "id": "-vKWVrLYDAm8",
    "outputId": "5fa8e78c-e6cc-45c7-f103-397f11786174"
   },
   "outputs": [],
   "source": [
    "list_ = []\n",
    "\n",
    "def split_string_on_dot(s):\n",
    "    # Split the string into a list of strings based on '.' if the length exceeds 900\n",
    "    curr_len = 0\n",
    "    curr_str = ''\n",
    "\n",
    "    for p in s:\n",
    "        curr_len += 1\n",
    "        curr_str += p\n",
    "\n",
    "        if p == '.' and curr_len >= 900:\n",
    "            list_.append(curr_str)\n",
    "            curr_len = 0\n",
    "            curr_str = ''\n",
    "\n",
    "    # Include the last remaining portion\n",
    "    if curr_str:\n",
    "        list_.append(curr_str)\n",
    "\n",
    "# Example usage\n",
    "\n",
    "str=\" My name is Dr. Hariharumurthy. I've got about three decades of experience as an ENT surgeon, and I'm practicing now with the Apollo Spectra Hospitals, Koramangala. Ear infections commonly are seen in the external ear, outside the ear drum or in the middle ear inside the ear drum. This is the common nature of infections that we come across. Commonly seen in the external ear are infections caused by self cleaning habits for example people have the habit of using different types of instruments which can be pins, pens, keys, ear buds. In fact the buds are not even designed for cleaning the ear. So all these implements that are used to clean the ear is actually an exercise in futility because the ear is a self-cleaning mechanism. When one chews their food, the movement of the external part of the external ear is sufficient to bring out the excessive wax and bring it out without your intervention. Only when we try to perfect what nature has done, we tend to cause problems. And you can have injuries which can cause infections. Besides, you can push the wax inside and injure the structures of the external ear. There have been instances where the ear drum has been ruptured because of energetic self-cleaning because you're not seeing what you're cleaning so these are the things that can cause infections of the external ear swimming in dirty ponds is another cause for infection of the ear or swimmers ear which can be also identified as otomycosis. So these are practices which are not safe. Cleaning of the ear routinely with anything is completely proscribed. Coming to the middle ear infections, infections of the nose or the throat can track upwards into the ear and cause infections in the ear. So if a child is having any infection in the nose or the throat or having a severe cold or in a very small child between two to four years of age or five there can be tonsils and adenoids which can be the harboring areas of infection which easily get driven into the ear blowing your nose very hard is not a very good idea because that can also force bacteria into the middle ear from the nose. So treating the causes in the nose or the throat is a very critical aspect of preventing infections happening in the ear. Young children who have repetitive infections which can happen in the school going age in the early years is a common factor for infections in the year. So these children have to be treated for their primary problem and their immune responses have to be bolstered by proper practices to ensure that the infections don't happen in the year. you\"\n",
    "split_string_on_dot(str)\n",
    "print(list_)"
   ]
  },
  {
   "cell_type": "code",
   "execution_count": null,
   "metadata": {
    "colab": {
     "base_uri": "https://localhost:8080/"
    },
    "id": "_PiyJhh-nN5e",
    "outputId": "dc17b31f-82d1-49c9-b362-b8f8c0d6e0f2"
   },
   "outputs": [],
   "source": []
  },
  {
   "cell_type": "code",
   "execution_count": null,
   "metadata": {
    "colab": {
     "background_save": true,
     "base_uri": "https://localhost:8080/"
    },
    "id": "Ouj5yT9TBXY1",
    "outputId": "07a9713e-0fab-4c3e-aa7a-97c44aa21315"
   },
   "outputs": [],
   "source": [
    "# str=\"hi all I am doctor pulmonary just practicing at Sachar nagar inspired Specialty Clinic Bangalore can flu cause pneumonia definitely most of the time 90% of the time flu influenza can cause some viral infections and it is self-limiting without any treatment also it can improve on its own with symptomatic treatment few patients need antivirals to patients can get secondary bacterial infections especially staphylococcal infections or they can get pneumonias with the streptococcus and flew by makes because of the airway Bridge since it affects the Airways and they are more susceptible to stop OK Google sometimes it can be life threatening and it can cause severe name of the tracks complications media all those things can happen infections and viral infections for sale can cause pneumonia and they may present like bilateral pneumonia which can be life threatening affecting oxygenation and they just require one or two liters of oxygen and some people because of the strange regions they may progressed faster and 7th or 8th day they mean more complications can happen which is called as which requires invisible mechanical ventilation and it can go up to 110% of the complications which can happen with the fluid they make secondary infection sometimes they go for multi organizations and death is very less than 4% of the chances is there that's why we tell them to take vaccinations at the disease will not be seen and they will not die much and the people know about the flu very well and every year flu vaccination is a preventative modality and pneumonia are definitely common with flu and incidents of come down because we have a specific treatment for influenza and we have a vaccinations which can cover for one year that's about flu\"\n",
    "# split_string_on_dot(str)\n",
    "# list_=[]\n",
    "corrected_strings = []\n",
    "for sentence in list_:\n",
    "    inputs = tokenizer(f\"Correct the paragraph.Your role is to analyze statements sentence by sentence. You should not summarize and do not skip any line and instead focus on correcting each sentence individually. Adress any minor grammatical issues and fact-check sentences specifically related to the medical domain.Rely on your own knowledge or provided documents for correcting medical facts.For sentence having no medical facts, check for grammar.If there are corrections return the corrected sentence else return the orignal sentence.Original Paragraph: '{sentence}' Corrected Paragraph:\", return_tensors=\"pt\", return_attention_mask=False)\n",
    "    outputs = model.generate(**inputs, max_length=600)\n",
    "    text = tokenizer.batch_decode(outputs[0], skip_special_tokens=True)\n",
    "    corrected_strings.append(''.join(text))\n",
    "    print(''.join(text))\n",
    "list_.clear()"
   ]
  },
  {
   "cell_type": "code",
   "execution_count": null,
   "metadata": {
    "colab": {
     "base_uri": "https://localhost:8080/"
    },
    "id": "juAsRvGsGhMh",
    "outputId": "ff902d57-2fd5-4f3c-ba28-b281693e03b0"
   },
   "outputs": [],
   "source": [
    "corrected_strings = []\n",
    "\n",
    "for sentence in list_:\n",
    "    inputs = tokenizer(f\"Correct the paragraph.Your role is to analyze statements sentence by sentence. You should not summarize and do not skip any line and instead focus on correcting each sentence individually. Address any minor grammatical issues and fact-check sentences specifically related to the medical domain. Rely on your own knowledge or provided documents for correcting medical facts. For sentence having no medical facts, check for grammar. If there are corrections return the corrected sentence else return the original sentence. Original Paragraph: '{sentence}'\", return_tensors=\"pt\", return_attention_mask=False)\n",
    "    outputs = model.generate(**inputs, max_length=500)\n",
    "    generated_text = tokenizer.batch_decode(outputs[0], skip_special_tokens=True)\n",
    "\n",
    "    # Split the generated text into lines\n",
    "    lines = ''.join(generated_text).split('\\n')\n",
    "\n",
    "    # Find the line that starts with \"Corrected Paragraph:\"\n",
    "    corrected_paragraph_line = next(\n",
    "        (line for line in lines if line.startswith(\"Corrected Paragraph:\")), None\n",
    "    )\n",
    "\n",
    "    if corrected_paragraph_line:\n",
    "        # Append the part after \"Corrected Paragraph:\" to the corrected_strings list\n",
    "        corrected_strings.append(corrected_paragraph_line[len(\"Corrected Paragraph: \"):])\n",
    "\n",
    "list_.clear()\n",
    "single_paragraph = ' '.join(corrected_strings)\n",
    "\n",
    "# Print the result\n",
    "print(single_paragraph)"
   ]
  },
  {
   "cell_type": "code",
   "execution_count": null,
   "metadata": {
    "colab": {
     "base_uri": "https://localhost:8080/"
    },
    "id": "ISAnuxQ2HMT0",
    "outputId": "894628d4-ddc8-49a6-e40e-e7667579395e"
   },
   "outputs": [],
   "source": [
    "single_paragraph = ' '.join(corrected_strings)\n",
    "\n",
    "# Print the result\n",
    "print(single_paragraph)"
   ]
  },
  {
   "cell_type": "code",
   "execution_count": null,
   "metadata": {
    "colab": {
     "base_uri": "https://localhost:8080/"
    },
    "id": "S4E_u_GUXrsS",
    "outputId": "5508e208-4b24-42a4-ee14-3ad41d595498"
   },
   "outputs": [],
   "source": [
    "len(list_)"
   ]
  },
  {
   "cell_type": "code",
   "execution_count": null,
   "metadata": {
    "colab": {
     "base_uri": "https://localhost:8080/"
    },
    "id": "R8OP1RWfOMYF",
    "outputId": "bdae6950-2102-4427-819d-dcecd451f710"
   },
   "outputs": [],
   "source": [
    "len(list_)"
   ]
  },
  {
   "cell_type": "code",
   "execution_count": null,
   "metadata": {
    "colab": {
     "base_uri": "https://localhost:8080/"
    },
    "id": "j-hmCdQrtxVw",
    "outputId": "afc3d4bf-4ca3-4f4f-baf3-bfec97f7ad32"
   },
   "outputs": [],
   "source": [
    "list_"
   ]
  },
  {
   "cell_type": "code",
   "execution_count": null,
   "metadata": {
    "colab": {
     "base_uri": "https://localhost:8080/"
    },
    "id": "26cH0eJ5DGhM",
    "outputId": "f84f03e0-2578-4dc8-db8b-a307acd66eea"
   },
   "outputs": [],
   "source": [
    "# str=\"hi all I am doctor pulmonary just practicing at Sachar nagar inspired Specialty Clinic Bangalore can flu cause pneumonia definitely most of the time 90% of the time flu influenza can cause some viral infections and it is self-limiting without any treatment also it can improve on its own with symptomatic treatment few patients need antivirals to patients can get secondary bacterial infections especially staphylococcal infections or they can get pneumonias with the streptococcus and flew by makes because of the airway Bridge since it affects the Airways and they are more susceptible to stop OK Google sometimes it can be life threatening and it can cause severe name of the tracks complications media all those things can happen infections and viral infections for sale can cause pneumonia and they may present like bilateral pneumonia which can be life threatening affecting oxygenation and they just require one or two liters of oxygen and some people because of the strange regions they may progressed faster and 7th or 8th day they mean more complications can happen which is called as which requires invisible mechanical ventilation and it can go up to 110% of the complications which can happen with the fluid they make secondary infection sometimes they go for multi organizations and death is very less than 4% of the chances is there that's why we tell them to take vaccinations at the disease will not be seen and they will not die much and the people know about the flu very well and every year flu vaccination is a preventative modality and pneumonia are definitely common with flu and incidents of come down because we have a specific treatment for influenza and we have a vaccinations which can cover for one year that's about flu\"\n",
    "# split_string_on_dot(str)\n",
    "# list_=[]\n",
    "corrected_strings = []\n",
    "# for sentence in list_:\n",
    "#     inputs = tokenizer(f\"Correct the paragraph.Your role is to analyze statements sentence by sentence. You should not summarize and do not skip any line and instead focus on correcting each sentence individually. Adress any minor grammatical issues and fact-check sentences specifically related to the medical domain.Rely on your own knowledge or provided documents for correcting medical facts.For sentence having no medical facts, check for grammar.If there are corrections return the corrected sentence else return the orignal sentence.Original Paragraph: '{sentence}' Corrected Paragraph:\", return_tensors=\"pt\", return_attention_mask=False)\n",
    "#     outputs = model.generate(**inputs, max_length=500)\n",
    "#     text = tokenizer.batch_decode(outputs[0], skip_special_tokens=True)\n",
    "#     corrected_strings.append(''.join(text))\n",
    "#     print(''.join(text))\n",
    "# list_.clear()\n",
    "# for sentence in list_:\n",
    "#     inputs = tokenizer(f\"Correct the paragraph. Your role is to analyze statements sentence by sentence. You should not summarize and do not skip any line and instead focus on correcting each sentence individually. Address any minor grammatical issues and fact-check sentences specifically related to the medical domain. Rely on your own knowledge or provided documents for correcting medical facts. For sentence having no medical facts, check for grammar. If there are corrections return the corrected sentence else return the original sentence.- '{sentence}' \", return_tensors=\"pt\", return_attention_mask=False)\n",
    "#     outputs = model.generate(**inputs, max_length=500)\n",
    "#     text = tokenizer.batch_decode(outputs[0], skip_special_tokens=True)\n",
    "#     corrected_text = ''.join(text).split('\\n')[0]  # Split the text at '\\n' and take the first part\n",
    "#     corrected_strings.append(corrected_text)\n",
    "#     print(corrected_text)\n",
    "# list_.clear()\n",
    "# corrected_paragraph = ' '.join(corrected_strings)\n",
    "\n",
    "# Optionally, you can print the entire corrected paragraph\n",
    "# print(corrected_paragraph)\n",
    "corrected_strings = []\n",
    "for sentence in list_:\n",
    "    inputs = tokenizer(f\"Correct the paragraph. Your role is to analyze statements sentence by sentence. You should not summarize and do not skip any line and instead focus on correcting each sentence individually. Address any minor grammatical issues and fact-check sentences specifically related to the medical domain. Rely on your own knowledge or provided documents for correcting medical facts. For sentence having no medical facts, check for grammar. If there are corrections return the corrected sentence else return the original sentence. Original Paragraph: '{sentence}' Corrected Paragraph:\", return_tensors=\"pt\", return_attention_mask=False)\n",
    "    outputs = model.generate(**inputs, max_length=1000)\n",
    "\n",
    "    # Decode the outputs and join into a single string\n",
    "    text = ''.join(tokenizer.batch_decode(outputs[0], skip_special_tokens=True))\n",
    "\n",
    "    # Split the text at \"Corrected Paragraph:\" and take the part after the first occurrence\n",
    "    parts = text.split(\"Corrected Paragraph:\")\n",
    "    if len(parts) > 1:\n",
    "        corrected_text = parts[1].strip()  # Take the second element (first element after the phrase)\n",
    "        corrected_strings.append(corrected_text)\n",
    "        print(corrected_text)\n",
    "\n",
    "# Joining all corrected sentences into a single paragraph\n",
    "corrected_paragraph = ' '.join(corrected_strings)\n",
    "\n",
    "# Optionally, you can print the entire corrected paragraph\n",
    "cleaned_text = corrected_paragraph.replace(\"'\", \"\")\n",
    "list_.clear()\n"
   ]
  },
  {
   "cell_type": "code",
   "execution_count": null,
   "metadata": {
    "colab": {
     "base_uri": "https://localhost:8080/",
     "height": 495
    },
    "id": "fiwgs1JZ3XXc",
    "outputId": "e6cecd99-4a2d-4e06-a9a6-196001c6ca26"
   },
   "outputs": [],
   "source": [
    "import pandas as pd\n",
    "\n",
    "\n",
    "# Function to split long paragraphs into smaller parts\n",
    "def split_string_on_dot(s):\n",
    "    list_ = []\n",
    "    curr_len = 0\n",
    "    curr_str = ''\n",
    "\n",
    "    for p in s:\n",
    "        curr_len += 1\n",
    "        curr_str += p\n",
    "\n",
    "        if p == '.' and curr_len >= 900:\n",
    "            list_.append(curr_str)\n",
    "            curr_len = 0\n",
    "            curr_str = ''\n",
    "\n",
    "    if curr_str:  # Include the last remaining portion\n",
    "        list_.append(curr_str)\n",
    "\n",
    "    return list_\n",
    "\n",
    "# Function to correct a paragraph\n",
    "def correct_paragraph(sentence, tokenizer, model):\n",
    "    inputs = tokenizer(f\"Correct the paragraph. Your role is to analyze statements sentence by sentence. You should not summarize and do not skip any line and instead focus on correcting each sentence individually. Address any minor grammatical issues and fact-check sentences specifically related to the medical domain. Rely on your own knowledge or provided documents for correcting medical facts. For sentence having no medical facts, check for grammar. If there are corrections return the corrected sentence else return the original sentence. Original Paragraph: '{sentence}' Corrected Paragraph:\", return_tensors=\"pt\", return_attention_mask=False)\n",
    "    outputs = model.generate(**inputs, max_length=1000)\n",
    "    text = ''.join(tokenizer.batch_decode(outputs[0], skip_special_tokens=True))\n",
    "    parts = text.split(\"Corrected Paragraph:\")\n",
    "    return parts[1].strip() if len(parts) > 1 else sentence\n",
    "\n",
    "# Load the CSV file\n",
    "df = pd.read_csv('final_test.csv')\n",
    "\n",
    "corrected_paragraphs = []\n",
    "\n",
    "# Process only the first paragraph and then break\n",
    "# for i, row in df.iterrows():\n",
    "#     original_paragraph = row['Original Paragraph']\n",
    "#     split_paragraphs = split_string_on_dot(original_paragraph)\n",
    "#     corrected_parts = [correct_paragraph(part, tokenizer, model) for part in split_paragraphs]\n",
    "#     corrected_paragraph = ' '.join(corrected_parts).replace(\"'\", \"\")  # Reassemble and remove quotation marks\n",
    "\n",
    "#     # Update the dataframe with the corrected paragraph\n",
    "#     df.at[i, 'Corrected Paragraph'] = corrected_paragraph\n",
    "\n",
    "#     # Save the file after each iteration\n",
    "#     intermediate_filename = f'corrected_data_{i+1}.csv'\n",
    "#     df.to_csv(intermediate_filename, index=False)\n",
    "#     print(f\"Updated file saved: {intermediate_filename}\")\n",
    "\n",
    "#     # Break after processing the first entry for testing\n",
    "#     if i == 0:\n",
    "#         break\n",
    "from google.colab import files\n",
    "for i, row in df.iloc[1:].iterrows():  # Start from the second row\n",
    "    original_paragraph = row['Original Paragraph']\n",
    "    split_paragraphs = split_string_on_dot(original_paragraph)\n",
    "    corrected_parts = [correct_paragraph(part, tokenizer, model) for part in split_paragraphs]\n",
    "    corrected_paragraph = ' '.join(corrected_parts).replace(\"'\", \"\")  # Reassemble and remove quotation marks\n",
    "\n",
    "    # Update the dataframe with the corrected paragraph\n",
    "    df.at[i, 'Corrected Paragraph'] = corrected_paragraph\n",
    "    print(corrected_paragraph)\n",
    "    # Save and download the file after every 15 or 16 entries\n",
    "    if (i + 1) % 16 == 0:\n",
    "        intermediate_filename = f'corrected_data_{i+1}.csv'\n",
    "        df.to_csv(intermediate_filename, index=False)\n",
    "        print(f\"Intermediate file saved: {intermediate_filename}\")\n",
    "        files.download(intermediate_filename)  # Download the file\n",
    "\n",
    "# Save the final file and download it\n",
    "final_filename = 'final_corrected_data.csv'\n",
    "df.to_csv(final_filename, index=False)\n",
    "print(f\"Final file saved: {final_filename}\")\n",
    "files.download(final_filename)\n",
    "\n",
    "\n",
    "# # Note: Since we're only running this for one entry, the final file will also contain only this entry\n",
    "# final_filename = 'final_corrected_data_single_entry.csv'\n",
    "# df.to_csv(final_filename, index=False)\n",
    "# print(f\"Final file saved: {final_filename}\")"
   ]
  },
  {
   "cell_type": "code",
   "execution_count": null,
   "metadata": {
    "colab": {
     "base_uri": "https://localhost:8080/"
    },
    "id": "shnvcbCuVXYs",
    "outputId": "c1a3205a-221b-4715-dc1d-f12607f93097"
   },
   "outputs": [],
   "source": [
    "final_filename = 'final_corrected_data.csv'\n",
    "df.to_csv(final_filename, index=False)\n",
    "print(f\"Final file saved: {final_filename}\")\n"
   ]
  },
  {
   "cell_type": "code",
   "execution_count": null,
   "metadata": {
    "colab": {
     "base_uri": "https://localhost:8080/"
    },
    "id": "wVrqTyQEJCtJ",
    "outputId": "b845ccae-7542-4d2b-9574-0cdd7eefe998"
   },
   "outputs": [],
   "source": [
    "corrected_strings"
   ]
  },
  {
   "cell_type": "code",
   "execution_count": null,
   "metadata": {
    "colab": {
     "base_uri": "https://localhost:8080/",
     "height": 363
    },
    "id": "4SOdd_uhG1D7",
    "outputId": "ae0b1b2c-8e03-4521-8fbe-dea55d4f9c56"
   },
   "outputs": [],
   "source": [
    "corrected_paragraph\n",
    "\n",
    "\n",
    "cleaned_text\n"
   ]
  },
  {
   "cell_type": "code",
   "execution_count": null,
   "metadata": {
    "colab": {
     "base_uri": "https://localhost:8080/"
    },
    "id": "Wd5EiFO2Cew1",
    "outputId": "e5c0e481-3313-49a0-fc7f-bf3b21ad2f8f"
   },
   "outputs": [],
   "source": [
    "inputs = tokenizer('''Correct the paragraph.Your role is to analyze statements sentence by sentence. You must avoid summarizing and instead focus on correcting each sentence individually. Adress any minor grammatical issues and fact-check sentences specifically related to the medical domain.Rely on your own knowledge or provided documents for correcting medical facts.For sentence having no medical facts, check for grammar.If there are corrections return the corrected sentence else return the orignal sentence.\n",
    "Original Paragraph: [Unrecognized speech] hello everyone my name is Dr Dheeraj Kumar Tiwari in Narayana health today we will be discussing about the benign thyroid nodules so benign thyroid nodules are the non cancerous over growth in the thy Chhotu the calls because cosmetic problem sometimes you will see swelling over here if they grow very big then they may compress the air so they can cause difficult in breathing and sometimes they can over produce the hor so these are the common problems with the benign thyroid so what are the treatment options for benign thyroid nodules the treatment options are surgical and non surgical surgery has been done for quite some time but the biggest disadvantage of surgery is that it leaves his car over the neck one thing second the pain is the total recovery time is and if it damages the nerves then it can give some impact on the voice the latest advancement in the thyroid nodules are the ablation in ablation we have multiple types of application like radio frequency evolution and microwave ovulation these are Minimal invasive methods by which these benign thyroid nodules can be treated so if the patient is not willing for Sur if the patient has [Unrecognized speech] cosmetic problem because of thyroid or if the thyroid nodule is causing some compression over the Airway  Corrected Paragraph:''', return_tensors=\"pt\", return_attention_mask=False)\n",
    "outputs = model.generate(**inputs, max_length=700)\n",
    "text = tokenizer.batch_decode(outputs[0], skip_special_tokens=True)\n",
    "print(''.join(text))\n",
    "# Sometimes we will see swelling over here. If they grow very big then they may compress the airway. So they can cause difficulty in breathing and sometimes they can overproduce the hormones. So these are the common problems with the benign thyroid nodules. So what are the treatment options for benign thyroid nodules? The treatment options are surgical and non-surgical. Surgery has been done for quite some time. But the biggest disadvantage of surgery is that it leaves a scar over the neck. One thing. Second, the pain is more. The total recovery time is far more. And if it damages the nerves, then it can give some impact on the voice. So the latest advancement in the thyroid nodules are the ablation. In ablation we have multiple types of ablation like radio frequency ablation and microwave ablation. These are minimally invasive methods by which these benign thyroid nodules can be treated. So if the patient is not willing for surgery, if the patient has cosmetic problem because of thyroid or if the thyroid nodule is causing some compression over the airway. They are the candidates who should undergo these therapies. How do we do it? So this treatment is done under local anesthesia. The patient is admitted for a day care admission and it's usually a walk in walk out procedure where the patient walks in the hospital and walks out on his own so it is done in local anesthesia so first of all we give an anesthetic injection around the nodule. Then we insert a microwave or radio frequency antenna, which is less than two millimeter in size and send that antenna inside that nodule and then we burn it from inside. So the recovery time is very fast and it usually does not leave any scar and the chances of injury to different organs are very less. And when we burn this nodule, gradually the nodule shrinks in size and the cosmetic problems totally goes away. So if you have any overgrowth in the neck region which is involving thyroid you can always consult your interventional radiologist so that it can be confirmed by doing fine needle aspiration that whether these are benign or malignant. If they are benign, then you can always receive such treatments."
   ]
  },
  {
   "cell_type": "code",
   "execution_count": null,
   "metadata": {
    "colab": {
     "base_uri": "https://localhost:8080/",
     "height": 329
    },
    "id": "pb7Ad7oMOwgf",
    "outputId": "828600d0-88db-4485-e269-46698f957ca0"
   },
   "outputs": [],
   "source": [
    "final_response=\"Original Paragraph:My name is Dr. Harihar Murthy. I've got about three decades of experience as an ENT surgeon and I'm practicing now with the Apollo Spectra Hospitals, Koramangala. Snoring is a problem that has got multiple reasons and identifying the factors is critical. Obesity is one of them. Obstructions at the level of the nose or nasal pharynx are another. Children with adenoids can also have snoring. Just like adults having obstructions which can cause the problem, children can also have snoring. In the case of adults, usually the problem is because of obstructions like I said along with palatal elongation, flutter of the palate when breathing from the mouth as well as collapse of the pillars of the tonsils or the epic lotus itself can be a flutter causing snoring so identifying the cause is critical dealing with obesity is one of the important factors of snoring treatment. As long as that is done, we also have to address the local factors like doing surgery for the palate. Sometimes we do restructuring of the palate and the pharyngeal tissues. As a result of that we reduce the flutter chances of the elongated and patulous palate. Sometimes we do put sutures in the palate and the pillars of the tonsil which restrict the mobility as a result reduce the snoring. Such are the factors which have to be addressed when dealing with snoring. So a holistic look at the causes for that particular patient would be necessary before we choose the particular treatment which is required for him. Ð ÐµÐ´Ð°ÐºÑ‚Ð¾Ñ€ ÑÑƒÐ±Ñ‚Ð¸Ñ‚Ñ€Ð¾Ð² Ð.Ð¡ÐµÐ¼ÐºÐ¸Ð½ ÐšÐ¾Ñ€Ñ€ÐµÐºÑ‚Ð¾Ñ€ Ð.Ð•Ð³Ð¾Ñ€Ð¾Ð²Ð°\"\n",
    "response=\"Corrected Paragraph: My name is Dr. Harihara Murthy. I have about three decades of experience as an ENT surgeon and I'm currently practicing at Apollo Spectra Hospitals, Koramangala. Snoring is a problem that has multiple reasons, and identifying the factors is critical. Obesity is one of them. Obstructions at the level of the nose or nasal pharynx are another. Children with adenoids can also have snoring. Just like adults having obstructions that can cause the problem, children can also have snoring. In the case of adults, usually the problem is because of obstructions, like I said along with palatal elongation, flutter of the palate when breathing from the mouth, and collapse of the pillars of the tonsils or the epic lotus itself can be a flutter causing snoring, identifying the cause is critical. Dealing with obesity is one of the important factors of snoring treatment. As long as that is done, the problem can we also have to address the local factors like surgery for the palate. Sometimes we do restructuring of the palate and the pharyngeal tissues. As a result of that we reduce the flutter chances of the elongated and patulous palate. Sometimes we do put sutures in the palate and the pillars of the tonsil which restrict the mobility as a result reduce the snoring. Such are the factors which have to be addressed when dealing with snoring. So a holistic look at the causes for that particular patient would be necessary before we choose the particular treatment which is required for him. Thank you.\"\n",
    "\n",
    "from IPython.display import display, HTML\n",
    "html_content = f'<pre style=\"white-space: pre-wrap; font-family: monospace;\">{final_response}</pre>'\n",
    "st= f'<pre style=\"white-space: pre-wrap; font-family: monospace;\">{response}</pre>'\n",
    "# Display the HTML content\n",
    "# print(response)\n",
    "display(HTML(html_content))\n",
    "display(HTML(st))"
   ]
  },
  {
   "cell_type": "code",
   "execution_count": null,
   "metadata": {
    "id": "dA8ekmrE4P35"
   },
   "outputs": [],
   "source": []
  }
 ],
 "metadata": {
  "accelerator": "GPU",
  "colab": {
   "provenance": []
  },
  "kernelspec": {
   "display_name": "Python 3 (ipykernel)",
   "language": "python",
   "name": "python3"
  },
  "language_info": {
   "codemirror_mode": {
    "name": "ipython",
    "version": 3
   },
   "file_extension": ".py",
   "mimetype": "text/x-python",
   "name": "python",
   "nbconvert_exporter": "python",
   "pygments_lexer": "ipython3",
   "version": "3.11.0"
  },
  "widgets": {
   "application/vnd.jupyter.widget-state+json": {
    "03f9d7c5e7c2407bb5d301f269bbcff3": {
     "model_module": "@jupyter-widgets/controls",
     "model_module_version": "1.5.0",
     "model_name": "FloatProgressModel",
     "state": {
      "_dom_classes": [],
      "_model_module": "@jupyter-widgets/controls",
      "_model_module_version": "1.5.0",
      "_model_name": "FloatProgressModel",
      "_view_count": null,
      "_view_module": "@jupyter-widgets/controls",
      "_view_module_version": "1.5.0",
      "_view_name": "ProgressView",
      "bar_style": "success",
      "description": "",
      "description_tooltip": null,
      "layout": "IPY_MODEL_b69d2de2b85e47b09d44a73fcca689f9",
      "max": 62960650,
      "min": 0,
      "orientation": "horizontal",
      "style": "IPY_MODEL_83397f12db5c446489f6eae82ef61fec",
      "value": 62960650
     }
    },
    "044302c3853b40c48a40c8b334cde514": {
     "model_module": "@jupyter-widgets/base",
     "model_module_version": "1.2.0",
     "model_name": "LayoutModel",
     "state": {
      "_model_module": "@jupyter-widgets/base",
      "_model_module_version": "1.2.0",
      "_model_name": "LayoutModel",
      "_view_count": null,
      "_view_module": "@jupyter-widgets/base",
      "_view_module_version": "1.2.0",
      "_view_name": "LayoutView",
      "align_content": null,
      "align_items": null,
      "align_self": null,
      "border": null,
      "bottom": null,
      "display": null,
      "flex": null,
      "flex_flow": null,
      "grid_area": null,
      "grid_auto_columns": null,
      "grid_auto_flow": null,
      "grid_auto_rows": null,
      "grid_column": null,
      "grid_gap": null,
      "grid_row": null,
      "grid_template_areas": null,
      "grid_template_columns": null,
      "grid_template_rows": null,
      "height": null,
      "justify_content": null,
      "justify_items": null,
      "left": null,
      "margin": null,
      "max_height": null,
      "max_width": null,
      "min_height": null,
      "min_width": null,
      "object_fit": null,
      "object_position": null,
      "order": null,
      "overflow": null,
      "overflow_x": null,
      "overflow_y": null,
      "padding": null,
      "right": null,
      "top": null,
      "visibility": null,
      "width": null
     }
    },
    "198b50e6963145009bd39e85027ee8bb": {
     "model_module": "@jupyter-widgets/controls",
     "model_module_version": "1.5.0",
     "model_name": "HBoxModel",
     "state": {
      "_dom_classes": [],
      "_model_module": "@jupyter-widgets/controls",
      "_model_module_version": "1.5.0",
      "_model_name": "HBoxModel",
      "_view_count": null,
      "_view_module": "@jupyter-widgets/controls",
      "_view_module_version": "1.5.0",
      "_view_name": "HBoxView",
      "box_style": "",
      "children": [
       "IPY_MODEL_882d5628e5cd4566948d88e7b7272f9d",
       "IPY_MODEL_03f9d7c5e7c2407bb5d301f269bbcff3",
       "IPY_MODEL_af4474974d5d408797488115d89c7048"
      ],
      "layout": "IPY_MODEL_b446c3af0f7942398763ea08f3bf3ecf"
     }
    },
    "20d5b35519ce464ebf2ae010206493f4": {
     "model_module": "@jupyter-widgets/base",
     "model_module_version": "1.2.0",
     "model_name": "LayoutModel",
     "state": {
      "_model_module": "@jupyter-widgets/base",
      "_model_module_version": "1.2.0",
      "_model_name": "LayoutModel",
      "_view_count": null,
      "_view_module": "@jupyter-widgets/base",
      "_view_module_version": "1.2.0",
      "_view_name": "LayoutView",
      "align_content": null,
      "align_items": null,
      "align_self": null,
      "border": null,
      "bottom": null,
      "display": null,
      "flex": null,
      "flex_flow": null,
      "grid_area": null,
      "grid_auto_columns": null,
      "grid_auto_flow": null,
      "grid_auto_rows": null,
      "grid_column": null,
      "grid_gap": null,
      "grid_row": null,
      "grid_template_areas": null,
      "grid_template_columns": null,
      "grid_template_rows": null,
      "height": null,
      "justify_content": null,
      "justify_items": null,
      "left": null,
      "margin": null,
      "max_height": null,
      "max_width": null,
      "min_height": null,
      "min_width": null,
      "object_fit": null,
      "object_position": null,
      "order": null,
      "overflow": null,
      "overflow_x": null,
      "overflow_y": null,
      "padding": null,
      "right": null,
      "top": null,
      "visibility": null,
      "width": null
     }
    },
    "2783248ddc7f4c28b8822b3dc01cec3d": {
     "model_module": "@jupyter-widgets/controls",
     "model_module_version": "1.5.0",
     "model_name": "DescriptionStyleModel",
     "state": {
      "_model_module": "@jupyter-widgets/controls",
      "_model_module_version": "1.5.0",
      "_model_name": "DescriptionStyleModel",
      "_view_count": null,
      "_view_module": "@jupyter-widgets/base",
      "_view_module_version": "1.2.0",
      "_view_name": "StyleView",
      "description_width": ""
     }
    },
    "2cc813b02cfd4f18a4de3729a51f3917": {
     "model_module": "@jupyter-widgets/base",
     "model_module_version": "1.2.0",
     "model_name": "LayoutModel",
     "state": {
      "_model_module": "@jupyter-widgets/base",
      "_model_module_version": "1.2.0",
      "_model_name": "LayoutModel",
      "_view_count": null,
      "_view_module": "@jupyter-widgets/base",
      "_view_module_version": "1.2.0",
      "_view_name": "LayoutView",
      "align_content": null,
      "align_items": null,
      "align_self": null,
      "border": null,
      "bottom": null,
      "display": null,
      "flex": null,
      "flex_flow": null,
      "grid_area": null,
      "grid_auto_columns": null,
      "grid_auto_flow": null,
      "grid_auto_rows": null,
      "grid_column": null,
      "grid_gap": null,
      "grid_row": null,
      "grid_template_areas": null,
      "grid_template_columns": null,
      "grid_template_rows": null,
      "height": null,
      "justify_content": null,
      "justify_items": null,
      "left": null,
      "margin": null,
      "max_height": null,
      "max_width": null,
      "min_height": null,
      "min_width": null,
      "object_fit": null,
      "object_position": null,
      "order": null,
      "overflow": null,
      "overflow_x": null,
      "overflow_y": null,
      "padding": null,
      "right": null,
      "top": null,
      "visibility": null,
      "width": null
     }
    },
    "2d15f12a216f4eb29ce0e513131a6737": {
     "model_module": "@jupyter-widgets/controls",
     "model_module_version": "1.5.0",
     "model_name": "ProgressStyleModel",
     "state": {
      "_model_module": "@jupyter-widgets/controls",
      "_model_module_version": "1.5.0",
      "_model_name": "ProgressStyleModel",
      "_view_count": null,
      "_view_module": "@jupyter-widgets/base",
      "_view_module_version": "1.2.0",
      "_view_name": "StyleView",
      "bar_color": null,
      "description_width": ""
     }
    },
    "355e5181ad514beca8ee6ff235ded692": {
     "model_module": "@jupyter-widgets/controls",
     "model_module_version": "1.5.0",
     "model_name": "DescriptionStyleModel",
     "state": {
      "_model_module": "@jupyter-widgets/controls",
      "_model_module_version": "1.5.0",
      "_model_name": "DescriptionStyleModel",
      "_view_count": null,
      "_view_module": "@jupyter-widgets/base",
      "_view_module_version": "1.2.0",
      "_view_name": "StyleView",
      "description_width": ""
     }
    },
    "3b922c5ed78f4e7197c387a8b6b4d2f4": {
     "model_module": "@jupyter-widgets/controls",
     "model_module_version": "1.5.0",
     "model_name": "FloatProgressModel",
     "state": {
      "_dom_classes": [],
      "_model_module": "@jupyter-widgets/controls",
      "_model_module_version": "1.5.0",
      "_model_name": "FloatProgressModel",
      "_view_count": null,
      "_view_module": "@jupyter-widgets/controls",
      "_view_module_version": "1.5.0",
      "_view_name": "ProgressView",
      "bar_style": "success",
      "description": "",
      "description_tooltip": null,
      "layout": "IPY_MODEL_758ce93d22144b7cbb48899fb92d37da",
      "max": 1,
      "min": 0,
      "orientation": "horizontal",
      "style": "IPY_MODEL_2d15f12a216f4eb29ce0e513131a6737",
      "value": 1
     }
    },
    "47eb82818c334e70b30b2784d2aeaee7": {
     "model_module": "@jupyter-widgets/controls",
     "model_module_version": "1.5.0",
     "model_name": "HTMLModel",
     "state": {
      "_dom_classes": [],
      "_model_module": "@jupyter-widgets/controls",
      "_model_module_version": "1.5.0",
      "_model_name": "HTMLModel",
      "_view_count": null,
      "_view_module": "@jupyter-widgets/controls",
      "_view_module_version": "1.5.0",
      "_view_name": "HTMLView",
      "description": "",
      "description_tooltip": null,
      "layout": "IPY_MODEL_7f007e59aa204fa3818c9f5b98e5aa8e",
      "placeholder": "​",
      "style": "IPY_MODEL_5cd9fdb62a054cf29742f2846aef06c6",
      "value": "Generating train split: "
     }
    },
    "4a3e97ccab0e4713b9a7b26e6e6a394b": {
     "model_module": "@jupyter-widgets/base",
     "model_module_version": "1.2.0",
     "model_name": "LayoutModel",
     "state": {
      "_model_module": "@jupyter-widgets/base",
      "_model_module_version": "1.2.0",
      "_model_name": "LayoutModel",
      "_view_count": null,
      "_view_module": "@jupyter-widgets/base",
      "_view_module_version": "1.2.0",
      "_view_name": "LayoutView",
      "align_content": null,
      "align_items": null,
      "align_self": null,
      "border": null,
      "bottom": null,
      "display": null,
      "flex": null,
      "flex_flow": null,
      "grid_area": null,
      "grid_auto_columns": null,
      "grid_auto_flow": null,
      "grid_auto_rows": null,
      "grid_column": null,
      "grid_gap": null,
      "grid_row": null,
      "grid_template_areas": null,
      "grid_template_columns": null,
      "grid_template_rows": null,
      "height": null,
      "justify_content": null,
      "justify_items": null,
      "left": null,
      "margin": null,
      "max_height": null,
      "max_width": null,
      "min_height": null,
      "min_width": null,
      "object_fit": null,
      "object_position": null,
      "order": null,
      "overflow": null,
      "overflow_x": null,
      "overflow_y": null,
      "padding": null,
      "right": null,
      "top": null,
      "visibility": null,
      "width": null
     }
    },
    "5598b7ccb37648d987cdcedc342b9ee8": {
     "model_module": "@jupyter-widgets/controls",
     "model_module_version": "1.5.0",
     "model_name": "HTMLModel",
     "state": {
      "_dom_classes": [],
      "_model_module": "@jupyter-widgets/controls",
      "_model_module_version": "1.5.0",
      "_model_name": "HTMLModel",
      "_view_count": null,
      "_view_module": "@jupyter-widgets/controls",
      "_view_module_version": "1.5.0",
      "_view_name": "HTMLView",
      "description": "",
      "description_tooltip": null,
      "layout": "IPY_MODEL_ad1156533c5e42568fe9337ec0434223",
      "placeholder": "​",
      "style": "IPY_MODEL_5ab13fd5640e4b35befd8ccca42ba4da",
      "value": " 88/88 [00:00&lt;00:00, 1746.33 examples/s]"
     }
    },
    "5ab13fd5640e4b35befd8ccca42ba4da": {
     "model_module": "@jupyter-widgets/controls",
     "model_module_version": "1.5.0",
     "model_name": "DescriptionStyleModel",
     "state": {
      "_model_module": "@jupyter-widgets/controls",
      "_model_module_version": "1.5.0",
      "_model_name": "DescriptionStyleModel",
      "_view_count": null,
      "_view_module": "@jupyter-widgets/base",
      "_view_module_version": "1.2.0",
      "_view_name": "StyleView",
      "description_width": ""
     }
    },
    "5cd9fdb62a054cf29742f2846aef06c6": {
     "model_module": "@jupyter-widgets/controls",
     "model_module_version": "1.5.0",
     "model_name": "DescriptionStyleModel",
     "state": {
      "_model_module": "@jupyter-widgets/controls",
      "_model_module_version": "1.5.0",
      "_model_name": "DescriptionStyleModel",
      "_view_count": null,
      "_view_module": "@jupyter-widgets/base",
      "_view_module_version": "1.2.0",
      "_view_name": "StyleView",
      "description_width": ""
     }
    },
    "6b3eb64529a0474ea2a23ef1800c9f53": {
     "model_module": "@jupyter-widgets/controls",
     "model_module_version": "1.5.0",
     "model_name": "HTMLModel",
     "state": {
      "_dom_classes": [],
      "_model_module": "@jupyter-widgets/controls",
      "_model_module_version": "1.5.0",
      "_model_name": "HTMLModel",
      "_view_count": null,
      "_view_module": "@jupyter-widgets/controls",
      "_view_module_version": "1.5.0",
      "_view_name": "HTMLView",
      "description": "",
      "description_tooltip": null,
      "layout": "IPY_MODEL_044302c3853b40c48a40c8b334cde514",
      "placeholder": "​",
      "style": "IPY_MODEL_2783248ddc7f4c28b8822b3dc01cec3d",
      "value": " 88/0 [00:00&lt;00:00, 1393.89 examples/s]"
     }
    },
    "758ce93d22144b7cbb48899fb92d37da": {
     "model_module": "@jupyter-widgets/base",
     "model_module_version": "1.2.0",
     "model_name": "LayoutModel",
     "state": {
      "_model_module": "@jupyter-widgets/base",
      "_model_module_version": "1.2.0",
      "_model_name": "LayoutModel",
      "_view_count": null,
      "_view_module": "@jupyter-widgets/base",
      "_view_module_version": "1.2.0",
      "_view_name": "LayoutView",
      "align_content": null,
      "align_items": null,
      "align_self": null,
      "border": null,
      "bottom": null,
      "display": null,
      "flex": null,
      "flex_flow": null,
      "grid_area": null,
      "grid_auto_columns": null,
      "grid_auto_flow": null,
      "grid_auto_rows": null,
      "grid_column": null,
      "grid_gap": null,
      "grid_row": null,
      "grid_template_areas": null,
      "grid_template_columns": null,
      "grid_template_rows": null,
      "height": null,
      "justify_content": null,
      "justify_items": null,
      "left": null,
      "margin": null,
      "max_height": null,
      "max_width": null,
      "min_height": null,
      "min_width": null,
      "object_fit": null,
      "object_position": null,
      "order": null,
      "overflow": null,
      "overflow_x": null,
      "overflow_y": null,
      "padding": null,
      "right": null,
      "top": null,
      "visibility": null,
      "width": "20px"
     }
    },
    "75e42d456e274cc88878fda1457d1b9f": {
     "model_module": "@jupyter-widgets/base",
     "model_module_version": "1.2.0",
     "model_name": "LayoutModel",
     "state": {
      "_model_module": "@jupyter-widgets/base",
      "_model_module_version": "1.2.0",
      "_model_name": "LayoutModel",
      "_view_count": null,
      "_view_module": "@jupyter-widgets/base",
      "_view_module_version": "1.2.0",
      "_view_name": "LayoutView",
      "align_content": null,
      "align_items": null,
      "align_self": null,
      "border": null,
      "bottom": null,
      "display": null,
      "flex": null,
      "flex_flow": null,
      "grid_area": null,
      "grid_auto_columns": null,
      "grid_auto_flow": null,
      "grid_auto_rows": null,
      "grid_column": null,
      "grid_gap": null,
      "grid_row": null,
      "grid_template_areas": null,
      "grid_template_columns": null,
      "grid_template_rows": null,
      "height": null,
      "justify_content": null,
      "justify_items": null,
      "left": null,
      "margin": null,
      "max_height": null,
      "max_width": null,
      "min_height": null,
      "min_width": null,
      "object_fit": null,
      "object_position": null,
      "order": null,
      "overflow": null,
      "overflow_x": null,
      "overflow_y": null,
      "padding": null,
      "right": null,
      "top": null,
      "visibility": null,
      "width": null
     }
    },
    "7f007e59aa204fa3818c9f5b98e5aa8e": {
     "model_module": "@jupyter-widgets/base",
     "model_module_version": "1.2.0",
     "model_name": "LayoutModel",
     "state": {
      "_model_module": "@jupyter-widgets/base",
      "_model_module_version": "1.2.0",
      "_model_name": "LayoutModel",
      "_view_count": null,
      "_view_module": "@jupyter-widgets/base",
      "_view_module_version": "1.2.0",
      "_view_name": "LayoutView",
      "align_content": null,
      "align_items": null,
      "align_self": null,
      "border": null,
      "bottom": null,
      "display": null,
      "flex": null,
      "flex_flow": null,
      "grid_area": null,
      "grid_auto_columns": null,
      "grid_auto_flow": null,
      "grid_auto_rows": null,
      "grid_column": null,
      "grid_gap": null,
      "grid_row": null,
      "grid_template_areas": null,
      "grid_template_columns": null,
      "grid_template_rows": null,
      "height": null,
      "justify_content": null,
      "justify_items": null,
      "left": null,
      "margin": null,
      "max_height": null,
      "max_width": null,
      "min_height": null,
      "min_width": null,
      "object_fit": null,
      "object_position": null,
      "order": null,
      "overflow": null,
      "overflow_x": null,
      "overflow_y": null,
      "padding": null,
      "right": null,
      "top": null,
      "visibility": null,
      "width": null
     }
    },
    "8043e3b379cd4ece989db22fdbb45b97": {
     "model_module": "@jupyter-widgets/base",
     "model_module_version": "1.2.0",
     "model_name": "LayoutModel",
     "state": {
      "_model_module": "@jupyter-widgets/base",
      "_model_module_version": "1.2.0",
      "_model_name": "LayoutModel",
      "_view_count": null,
      "_view_module": "@jupyter-widgets/base",
      "_view_module_version": "1.2.0",
      "_view_name": "LayoutView",
      "align_content": null,
      "align_items": null,
      "align_self": null,
      "border": null,
      "bottom": null,
      "display": null,
      "flex": null,
      "flex_flow": null,
      "grid_area": null,
      "grid_auto_columns": null,
      "grid_auto_flow": null,
      "grid_auto_rows": null,
      "grid_column": null,
      "grid_gap": null,
      "grid_row": null,
      "grid_template_areas": null,
      "grid_template_columns": null,
      "grid_template_rows": null,
      "height": null,
      "justify_content": null,
      "justify_items": null,
      "left": null,
      "margin": null,
      "max_height": null,
      "max_width": null,
      "min_height": null,
      "min_width": null,
      "object_fit": null,
      "object_position": null,
      "order": null,
      "overflow": null,
      "overflow_x": null,
      "overflow_y": null,
      "padding": null,
      "right": null,
      "top": null,
      "visibility": null,
      "width": null
     }
    },
    "83397f12db5c446489f6eae82ef61fec": {
     "model_module": "@jupyter-widgets/controls",
     "model_module_version": "1.5.0",
     "model_name": "ProgressStyleModel",
     "state": {
      "_model_module": "@jupyter-widgets/controls",
      "_model_module_version": "1.5.0",
      "_model_name": "ProgressStyleModel",
      "_view_count": null,
      "_view_module": "@jupyter-widgets/base",
      "_view_module_version": "1.2.0",
      "_view_name": "StyleView",
      "bar_color": null,
      "description_width": ""
     }
    },
    "873dfed5e5bc4bc197d8e1ed35c23fc2": {
     "model_module": "@jupyter-widgets/controls",
     "model_module_version": "1.5.0",
     "model_name": "DescriptionStyleModel",
     "state": {
      "_model_module": "@jupyter-widgets/controls",
      "_model_module_version": "1.5.0",
      "_model_name": "DescriptionStyleModel",
      "_view_count": null,
      "_view_module": "@jupyter-widgets/base",
      "_view_module_version": "1.2.0",
      "_view_name": "StyleView",
      "description_width": ""
     }
    },
    "882d5628e5cd4566948d88e7b7272f9d": {
     "model_module": "@jupyter-widgets/controls",
     "model_module_version": "1.5.0",
     "model_name": "HTMLModel",
     "state": {
      "_dom_classes": [],
      "_model_module": "@jupyter-widgets/controls",
      "_model_module_version": "1.5.0",
      "_model_name": "HTMLModel",
      "_view_count": null,
      "_view_module": "@jupyter-widgets/controls",
      "_view_module_version": "1.5.0",
      "_view_name": "HTMLView",
      "description": "",
      "description_tooltip": null,
      "layout": "IPY_MODEL_4a3e97ccab0e4713b9a7b26e6e6a394b",
      "placeholder": "​",
      "style": "IPY_MODEL_873dfed5e5bc4bc197d8e1ed35c23fc2",
      "value": "adapter_model.bin: 100%"
     }
    },
    "9786894755b74d81a284fc6eccfc7f24": {
     "model_module": "@jupyter-widgets/controls",
     "model_module_version": "1.5.0",
     "model_name": "HBoxModel",
     "state": {
      "_dom_classes": [],
      "_model_module": "@jupyter-widgets/controls",
      "_model_module_version": "1.5.0",
      "_model_name": "HBoxModel",
      "_view_count": null,
      "_view_module": "@jupyter-widgets/controls",
      "_view_module_version": "1.5.0",
      "_view_name": "HBoxView",
      "box_style": "",
      "children": [
       "IPY_MODEL_a7caffb570ab45c0a981ff6e33b3d7cd",
       "IPY_MODEL_d3d45e2a34864cc5891964793a3e29e6",
       "IPY_MODEL_5598b7ccb37648d987cdcedc342b9ee8"
      ],
      "layout": "IPY_MODEL_d0b183daf4fe4ca39f8e0a033ef6612b"
     }
    },
    "a7caffb570ab45c0a981ff6e33b3d7cd": {
     "model_module": "@jupyter-widgets/controls",
     "model_module_version": "1.5.0",
     "model_name": "HTMLModel",
     "state": {
      "_dom_classes": [],
      "_model_module": "@jupyter-widgets/controls",
      "_model_module_version": "1.5.0",
      "_model_name": "HTMLModel",
      "_view_count": null,
      "_view_module": "@jupyter-widgets/controls",
      "_view_module_version": "1.5.0",
      "_view_name": "HTMLView",
      "description": "",
      "description_tooltip": null,
      "layout": "IPY_MODEL_2cc813b02cfd4f18a4de3729a51f3917",
      "placeholder": "​",
      "style": "IPY_MODEL_b9267d96f8b342aab6e5ccdd76e6879c",
      "value": "Map: 100%"
     }
    },
    "ad1156533c5e42568fe9337ec0434223": {
     "model_module": "@jupyter-widgets/base",
     "model_module_version": "1.2.0",
     "model_name": "LayoutModel",
     "state": {
      "_model_module": "@jupyter-widgets/base",
      "_model_module_version": "1.2.0",
      "_model_name": "LayoutModel",
      "_view_count": null,
      "_view_module": "@jupyter-widgets/base",
      "_view_module_version": "1.2.0",
      "_view_name": "LayoutView",
      "align_content": null,
      "align_items": null,
      "align_self": null,
      "border": null,
      "bottom": null,
      "display": null,
      "flex": null,
      "flex_flow": null,
      "grid_area": null,
      "grid_auto_columns": null,
      "grid_auto_flow": null,
      "grid_auto_rows": null,
      "grid_column": null,
      "grid_gap": null,
      "grid_row": null,
      "grid_template_areas": null,
      "grid_template_columns": null,
      "grid_template_rows": null,
      "height": null,
      "justify_content": null,
      "justify_items": null,
      "left": null,
      "margin": null,
      "max_height": null,
      "max_width": null,
      "min_height": null,
      "min_width": null,
      "object_fit": null,
      "object_position": null,
      "order": null,
      "overflow": null,
      "overflow_x": null,
      "overflow_y": null,
      "padding": null,
      "right": null,
      "top": null,
      "visibility": null,
      "width": null
     }
    },
    "af4474974d5d408797488115d89c7048": {
     "model_module": "@jupyter-widgets/controls",
     "model_module_version": "1.5.0",
     "model_name": "HTMLModel",
     "state": {
      "_dom_classes": [],
      "_model_module": "@jupyter-widgets/controls",
      "_model_module_version": "1.5.0",
      "_model_name": "HTMLModel",
      "_view_count": null,
      "_view_module": "@jupyter-widgets/controls",
      "_view_module_version": "1.5.0",
      "_view_name": "HTMLView",
      "description": "",
      "description_tooltip": null,
      "layout": "IPY_MODEL_75e42d456e274cc88878fda1457d1b9f",
      "placeholder": "​",
      "style": "IPY_MODEL_355e5181ad514beca8ee6ff235ded692",
      "value": " 63.0M/63.0M [00:02&lt;00:00, 41.2MB/s]"
     }
    },
    "b446c3af0f7942398763ea08f3bf3ecf": {
     "model_module": "@jupyter-widgets/base",
     "model_module_version": "1.2.0",
     "model_name": "LayoutModel",
     "state": {
      "_model_module": "@jupyter-widgets/base",
      "_model_module_version": "1.2.0",
      "_model_name": "LayoutModel",
      "_view_count": null,
      "_view_module": "@jupyter-widgets/base",
      "_view_module_version": "1.2.0",
      "_view_name": "LayoutView",
      "align_content": null,
      "align_items": null,
      "align_self": null,
      "border": null,
      "bottom": null,
      "display": null,
      "flex": null,
      "flex_flow": null,
      "grid_area": null,
      "grid_auto_columns": null,
      "grid_auto_flow": null,
      "grid_auto_rows": null,
      "grid_column": null,
      "grid_gap": null,
      "grid_row": null,
      "grid_template_areas": null,
      "grid_template_columns": null,
      "grid_template_rows": null,
      "height": null,
      "justify_content": null,
      "justify_items": null,
      "left": null,
      "margin": null,
      "max_height": null,
      "max_width": null,
      "min_height": null,
      "min_width": null,
      "object_fit": null,
      "object_position": null,
      "order": null,
      "overflow": null,
      "overflow_x": null,
      "overflow_y": null,
      "padding": null,
      "right": null,
      "top": null,
      "visibility": null,
      "width": null
     }
    },
    "b69d2de2b85e47b09d44a73fcca689f9": {
     "model_module": "@jupyter-widgets/base",
     "model_module_version": "1.2.0",
     "model_name": "LayoutModel",
     "state": {
      "_model_module": "@jupyter-widgets/base",
      "_model_module_version": "1.2.0",
      "_model_name": "LayoutModel",
      "_view_count": null,
      "_view_module": "@jupyter-widgets/base",
      "_view_module_version": "1.2.0",
      "_view_name": "LayoutView",
      "align_content": null,
      "align_items": null,
      "align_self": null,
      "border": null,
      "bottom": null,
      "display": null,
      "flex": null,
      "flex_flow": null,
      "grid_area": null,
      "grid_auto_columns": null,
      "grid_auto_flow": null,
      "grid_auto_rows": null,
      "grid_column": null,
      "grid_gap": null,
      "grid_row": null,
      "grid_template_areas": null,
      "grid_template_columns": null,
      "grid_template_rows": null,
      "height": null,
      "justify_content": null,
      "justify_items": null,
      "left": null,
      "margin": null,
      "max_height": null,
      "max_width": null,
      "min_height": null,
      "min_width": null,
      "object_fit": null,
      "object_position": null,
      "order": null,
      "overflow": null,
      "overflow_x": null,
      "overflow_y": null,
      "padding": null,
      "right": null,
      "top": null,
      "visibility": null,
      "width": null
     }
    },
    "b9267d96f8b342aab6e5ccdd76e6879c": {
     "model_module": "@jupyter-widgets/controls",
     "model_module_version": "1.5.0",
     "model_name": "DescriptionStyleModel",
     "state": {
      "_model_module": "@jupyter-widgets/controls",
      "_model_module_version": "1.5.0",
      "_model_name": "DescriptionStyleModel",
      "_view_count": null,
      "_view_module": "@jupyter-widgets/base",
      "_view_module_version": "1.2.0",
      "_view_name": "StyleView",
      "description_width": ""
     }
    },
    "c0da307e7a6b4bffbc81aaea3ba4c0e1": {
     "model_module": "@jupyter-widgets/controls",
     "model_module_version": "1.5.0",
     "model_name": "ProgressStyleModel",
     "state": {
      "_model_module": "@jupyter-widgets/controls",
      "_model_module_version": "1.5.0",
      "_model_name": "ProgressStyleModel",
      "_view_count": null,
      "_view_module": "@jupyter-widgets/base",
      "_view_module_version": "1.2.0",
      "_view_name": "StyleView",
      "bar_color": null,
      "description_width": ""
     }
    },
    "d0b183daf4fe4ca39f8e0a033ef6612b": {
     "model_module": "@jupyter-widgets/base",
     "model_module_version": "1.2.0",
     "model_name": "LayoutModel",
     "state": {
      "_model_module": "@jupyter-widgets/base",
      "_model_module_version": "1.2.0",
      "_model_name": "LayoutModel",
      "_view_count": null,
      "_view_module": "@jupyter-widgets/base",
      "_view_module_version": "1.2.0",
      "_view_name": "LayoutView",
      "align_content": null,
      "align_items": null,
      "align_self": null,
      "border": null,
      "bottom": null,
      "display": null,
      "flex": null,
      "flex_flow": null,
      "grid_area": null,
      "grid_auto_columns": null,
      "grid_auto_flow": null,
      "grid_auto_rows": null,
      "grid_column": null,
      "grid_gap": null,
      "grid_row": null,
      "grid_template_areas": null,
      "grid_template_columns": null,
      "grid_template_rows": null,
      "height": null,
      "justify_content": null,
      "justify_items": null,
      "left": null,
      "margin": null,
      "max_height": null,
      "max_width": null,
      "min_height": null,
      "min_width": null,
      "object_fit": null,
      "object_position": null,
      "order": null,
      "overflow": null,
      "overflow_x": null,
      "overflow_y": null,
      "padding": null,
      "right": null,
      "top": null,
      "visibility": null,
      "width": null
     }
    },
    "d3d45e2a34864cc5891964793a3e29e6": {
     "model_module": "@jupyter-widgets/controls",
     "model_module_version": "1.5.0",
     "model_name": "FloatProgressModel",
     "state": {
      "_dom_classes": [],
      "_model_module": "@jupyter-widgets/controls",
      "_model_module_version": "1.5.0",
      "_model_name": "FloatProgressModel",
      "_view_count": null,
      "_view_module": "@jupyter-widgets/controls",
      "_view_module_version": "1.5.0",
      "_view_name": "ProgressView",
      "bar_style": "success",
      "description": "",
      "description_tooltip": null,
      "layout": "IPY_MODEL_20d5b35519ce464ebf2ae010206493f4",
      "max": 88,
      "min": 0,
      "orientation": "horizontal",
      "style": "IPY_MODEL_c0da307e7a6b4bffbc81aaea3ba4c0e1",
      "value": 88
     }
    },
    "f8d28eac335c4919a64325efd5c4fb19": {
     "model_module": "@jupyter-widgets/controls",
     "model_module_version": "1.5.0",
     "model_name": "HBoxModel",
     "state": {
      "_dom_classes": [],
      "_model_module": "@jupyter-widgets/controls",
      "_model_module_version": "1.5.0",
      "_model_name": "HBoxModel",
      "_view_count": null,
      "_view_module": "@jupyter-widgets/controls",
      "_view_module_version": "1.5.0",
      "_view_name": "HBoxView",
      "box_style": "",
      "children": [
       "IPY_MODEL_47eb82818c334e70b30b2784d2aeaee7",
       "IPY_MODEL_3b922c5ed78f4e7197c387a8b6b4d2f4",
       "IPY_MODEL_6b3eb64529a0474ea2a23ef1800c9f53"
      ],
      "layout": "IPY_MODEL_8043e3b379cd4ece989db22fdbb45b97"
     }
    }
   }
  }
 },
 "nbformat": 4,
 "nbformat_minor": 1
}
